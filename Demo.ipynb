{
 "cells": [
  {
   "cell_type": "markdown",
   "metadata": {},
   "source": [
    "RNA-seq experiment Workflow:\n",
    "\n",
    "Samples sequenced generating fastq files composed of millions of reads\n",
    "Map the reads using Kalisto:  https://pachterlab.github.io/kallisto/\n",
    "Differential expression testing using Sleuth: http://pachterlab.github.io/sleuth/\n",
    "Unfortunately the output from these programs is still not very useful"
   ]
  },
  {
   "cell_type": "code",
   "execution_count": 28,
   "metadata": {
    "collapsed": true
   },
   "outputs": [],
   "source": [
    "#!/usr/bin/env python\n",
    "import sys,os\n",
    "import csv\n",
    "import matplotlib.pyplot as plt\n",
    "import math\n",
    "import pylab as P\n",
    "import numpy as np\n",
    "import glob"
   ]
  },
  {
   "cell_type": "code",
   "execution_count": 29,
   "metadata": {
    "collapsed": true
   },
   "outputs": [],
   "source": [
    "####################################################START HERE!!!!!!!###############################################\n",
    "try:\n",
    "    gf = open(\"Mouse_genes.txt\",'rU')\n",
    "\n",
    "    outf = open(\"demo_out.txt\",'w')\n",
    "\n",
    "    \n",
    "\n",
    "except:\n",
    "    print'Cannot open file\\n'\n",
    "    sys.exit(0)\n",
    "\n",
    "    \n",
    "##Define some variables\n",
    "Header=[] #List\n",
    "out_head=[\"Gene\",\"Transcript\"]\n",
    "\n",
    "col_names={} #Dictionary\n",
    "raw_gene_dict={}\n",
    "glist_dict={}\n",
    "diff_dict={}"
   ]
  },
  {
   "cell_type": "markdown",
   "metadata": {},
   "source": [
    "Here are some functions"
   ]
  },
  {
   "cell_type": "code",
   "execution_count": 30,
   "metadata": {
    "collapsed": true
   },
   "outputs": [],
   "source": [
    "def glistreader(stream):\n",
    "    global glist_dict\n",
    "    \"Read in Gene list from Ensembl\"\n",
    "    reader=csv.reader(stream,delimiter='\\t')\n",
    "    reader= list(reader)\n",
    "    \n",
    "    reader=reader[1:]\n",
    "    \n",
    "    for line in reader:\n",
    "        tid=str(line[1])\n",
    "\n",
    "        gname=line[2]\n",
    "\n",
    "        glist_dict[tid]=gname\n",
    "\n",
    "\n",
    "    return 0\n",
    "\n",
    "def abundancereader(stream):\n",
    "    #global col_names, Header\n",
    "    \"Read in Kalisto abundance\"\n",
    "    reader=csv.reader(stream,delimiter='\\t')\n",
    "    reader= list(reader)\n",
    "    \n",
    "    #hack for demo, shortening the input file\n",
    "    reader=reader[1:1000]\n",
    "\n",
    "    reader=map(add2dict,reader)\n",
    "\n",
    "    return 0\n",
    "\n",
    "def diffreader(stream):\n",
    "    #global col_names, Header\n",
    "    \"Read in Sleuth output\"\n",
    "    reader=csv.reader(stream,delimiter='\\t')\n",
    "    reader= list(reader)\n",
    "    \n",
    "    #hack for demo, shortening the input file\n",
    "    reader=reader[1:1000]\n",
    "\n",
    "    reader=map(add2diff,reader)\n",
    "\n",
    "    return 0\n",
    "\n",
    "def add2dict(row):\n",
    "    global raw_gene_dict, out_head, repname\n",
    "    \n",
    "    result=[]\n",
    "    for column in range(len(row)):\n",
    "        try:\n",
    "            val=round(float(row[column]),4)\n",
    "\n",
    "        except:\n",
    "            val=row[column]\n",
    "\n",
    "        result.append(val)\n",
    "\n",
    "    ID=result[0]\n",
    "\n",
    "    count=result[3]\n",
    "    tpm=result[4]\n",
    "    \n",
    "    if ID in raw_gene_dict.keys():\n",
    "        current=list(raw_gene_dict[ID])\n",
    "        current.append(count)\n",
    "        current.append(tpm)\n",
    "        raw_gene_dict[ID]=list(current)\n",
    "        \n",
    "    else:\n",
    "        raw_gene_dict[ID]=[count,tpm]\n",
    "    \n",
    "    return result\n",
    "\n",
    "def add2diff(row):\n",
    "    global diff_dict\n",
    "    \n",
    "    result=[]\n",
    "    for column in range(len(row)):\n",
    "        try:\n",
    "            val=round(float(row[column]),4)\n",
    "\n",
    "        except:\n",
    "            val=row[column]\n",
    "        \n",
    "        result.append(val)\n",
    "\n",
    "    ID=result[1]\n",
    "\n",
    "    \n",
    "    qval=result[3]\n",
    "    mean=result[6]\n",
    "    b=result[4]\n",
    "    \n",
    "    if ID in diff_dict.keys():\n",
    "        current=list(diff_dict[ID])\n",
    "        current.append(mean)\n",
    "        current.append(qval)\n",
    "        current.append(b)\n",
    "        diff_dict[ID]=list(current)\n",
    "        \n",
    "    else:\n",
    "        diff_dict[ID]=[mean,qval,b]\n",
    "    \n",
    "    return result"
   ]
  },
  {
   "cell_type": "markdown",
   "metadata": {},
   "source": [
    "Read in the three file types"
   ]
  },
  {
   "cell_type": "code",
   "execution_count": 31,
   "metadata": {
    "collapsed": false
   },
   "outputs": [
    {
     "name": "stdout",
     "output_type": "stream",
     "text": [
      "Reading Abundances\n",
      "ACA\n",
      "./Abundances\\ACA_abundance.tsv\n",
      "RAW 999\n",
      "GCC\n",
      "./Abundances\\GCC_abundance.tsv\n",
      "RAW 999\n",
      "WTS1\n",
      "./Abundances\\WTS1_abundance.tsv\n",
      "RAW 999\n",
      "WTS2\n",
      "./Abundances\\WTS2_abundance.tsv\n",
      "RAW 999\n",
      "Reading Diffs\n",
      "reps\n"
     ]
    }
   ],
   "source": [
    "glistreader(gf)\n",
    "\n",
    "names = glob.glob('./Abundances/*.tsv')\n",
    "print \"Reading Abundances\"\n",
    "for fname in names:\n",
    "    #chrom,sep,rest=mess.partition(\":\")\n",
    "    first,sep,rest=fname.partition(\"\\\\\")\n",
    "    repname,sep,junk=rest.partition(\"_abundance\")\n",
    "    print repname\n",
    "    out_head.append(repname+\"_count\")\n",
    "    out_head.append(repname+\"_tpm\")\n",
    "    print fname\n",
    "    g=open(fname)\n",
    "    abundancereader(g)\n",
    "    g.close()\n",
    "    \n",
    "    print \"RAW\", len(raw_gene_dict.keys())\n",
    "\n",
    "difnames = glob.glob('*_dif.txt')\n",
    "print \"Reading Diffs\"\n",
    "for fname in difnames:\n",
    "\n",
    "    repname,sep,junk=fname.partition(\"_\")\n",
    "    print repname\n",
    "    \n",
    "    out_head.append(repname+\"_mean\")\n",
    "    out_head.append(repname+\"_qval\")\n",
    "    out_head.append(repname+\"_beta\")\n",
    "    g=open(fname)\n",
    "    diffreader(g)\n",
    "    g.close()"
   ]
  },
  {
   "cell_type": "markdown",
   "metadata": {},
   "source": [
    "Some printing functions"
   ]
  },
  {
   "cell_type": "code",
   "execution_count": 32,
   "metadata": {
    "collapsed": true
   },
   "outputs": [],
   "source": [
    "def putoutall(out):\n",
    "    def putout(row):\n",
    "        \"write a list of lists to a file\"\n",
    "        for n in range(len(row)):\n",
    "            if n < (len(row)-1):\n",
    "                out.write(str(row[n])+\"\\t\")\n",
    "            else:\n",
    "                out.write(str(row[n]))\n",
    "        out.write(\"\\n\")\n",
    "    return putout\n",
    "\n",
    "def putoutrow(out,row):\n",
    "    \"write a list of lists to a file\"\n",
    "    for n in range(len(row)):\n",
    "        if n < (len(row)-1):\n",
    "            out.write(str(row[n])+\"\\t\")\n",
    "        else:\n",
    "            out.write(str(row[n]))\n",
    "    out.write(\"\\n\")\n",
    "    \n",
    "def putoutpart(out,row,max):\n",
    "    \"write a list of lists to a file\"\n",
    "    for n in range(max):\n",
    "        out.write(str(row[n])+\"\\t\")"
   ]
  },
  {
   "cell_type": "markdown",
   "metadata": {},
   "source": [
    "Print out the compiled file"
   ]
  },
  {
   "cell_type": "code",
   "execution_count": 33,
   "metadata": {
    "collapsed": false
   },
   "outputs": [
    {
     "name": "stdout",
     "output_type": "stream",
     "text": [
      "I'm done.\n"
     ]
    }
   ],
   "source": [
    "putoutrow(outf, out_head)\n",
    "\n",
    "\n",
    "for tid in raw_gene_dict.keys():\n",
    "    \n",
    "    if tid in glist_dict.keys():\n",
    "        gname=glist_dict[tid]\n",
    "    else:\n",
    "        gname=\"missing\"\n",
    "    #print tid\n",
    "    line=[]\n",
    "    line.append(gname)\n",
    "    line.append(tid)\n",
    "    vals=list(raw_gene_dict[tid])\n",
    "    for thing in vals:\n",
    "        line.append(thing)\n",
    "    \n",
    "    if tid in diff_dict.keys():\n",
    "        extra=list(diff_dict[tid])\n",
    "    else:\n",
    "        extra=[\"Missing\"]\n",
    "        \n",
    "    for thing in extra:\n",
    "        line.append(thing)    \n",
    "        \n",
    "    putoutrow(outf, line)\n",
    "    \n",
    "outf.close()\n",
    "print \"I'm done.\""
   ]
  }
 ],
 "metadata": {
  "kernelspec": {
   "display_name": "Python 2",
   "language": "python",
   "name": "python2"
  },
  "language_info": {
   "codemirror_mode": {
    "name": "ipython",
    "version": 2
   },
   "file_extension": ".py",
   "mimetype": "text/x-python",
   "name": "python",
   "nbconvert_exporter": "python",
   "pygments_lexer": "ipython2",
   "version": "2.7.11"
  }
 },
 "nbformat": 4,
 "nbformat_minor": 0
}
